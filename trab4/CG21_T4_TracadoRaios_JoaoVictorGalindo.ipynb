{
 "cells": [
  {
   "cell_type": "markdown",
   "metadata": {},
   "source": [
    "<h1>T4 - Traçado de Raios<h3/>\n",
    "\n",
    "<p></p>"
   ]
  },
  {
   "cell_type": "code",
   "execution_count": 1,
   "metadata": {},
   "outputs": [
    {
     "name": "stdout",
     "output_type": "stream",
     "text": [
      "2.220446049250313e-16\n"
     ]
    }
   ],
   "source": [
    "import numpy as np\n",
    "import matplotlib.pyplot as plt\n",
    "from math import sin, cos, sqrt\n",
    "import sys\n",
    "\n",
    "TOL = sys.float_info.epsilon\n",
    "print(TOL)"
   ]
  },
  {
   "cell_type": "code",
   "execution_count": 2,
   "metadata": {},
   "outputs": [],
   "source": [
    "def vetor(x, y, z):\n",
    "    return  np.array([x, y, z], dtype = np.float)\n",
    "\n",
    "def dot(u, v):\n",
    "    return (u[0] * v[0] + u[1] * v[1] + u[2] * v[2])\n",
    "\n",
    "def norma(u):\n",
    "    return sqrt(dot(u, u))\n",
    "\n",
    "def unitario(v):\n",
    "    s = norma(v)\n",
    "    \n",
    "    if (s > TOL):\n",
    "        return v/s\n",
    "    \n",
    "    else:\n",
    "        return None\n",
    "\n",
    "def ang(v1, v2):\n",
    "    num = dot(v1, v2)\n",
    "    den = norm(v1) * norm(v2)\n",
    "    \n",
    "    return np.arccos(num/den) * 180 / np.pi if den > TOL else 0\n",
    "\n",
    "def reflete(v, n):\n",
    "    r = 2 * dot(v, n) * n - v\n",
    "    return r\n",
    "\n",
    "def cross(u, v):\n",
    "    return vetor(u[1] * v[2] - u[2] * v[1], u[2] * v[0] - u[0] * v[2], u[0] * v[1] - u[1] * v[0]) "
   ]
  },
  {
   "cell_type": "code",
   "execution_count": 3,
   "metadata": {},
   "outputs": [],
   "source": [
    "class Camera:\n",
    "    def __init__(self, fov, w, h, dfocal, eye, at, up):\n",
    "        self.fov = fov\n",
    "        self.w = w\n",
    "        self.h = h\n",
    "        self.dfocal = dfocal\n",
    "        \n",
    "        self.a = 2 * dfocal * np.tan(fov * np.pi / 360)\n",
    "        self.b = self.a * w / h\n",
    "        self.eye = eye\n",
    "        \n",
    "        self.ze = unitario(at - eye)\n",
    "        self.xe = unitario(cross(self.ze, up))\n",
    "        self.ye = cross(self.ze, self.xe)\n",
    "        self.img = np.full(shape = (h, w, 3), fill_value = 0.43, dtype = np.float)\n",
    "    \n",
    "    def ray_to(self, x_im, y_im):\n",
    "        dx = self.b * (x_im / self.w - 0.5)\n",
    "        dy = self.a * (y_im / self.h - 0.5)\n",
    "        dz = self.dfocal\n",
    "        \n",
    "        ray = dx * self.xe + dy * self.ye + dz * self.ze\n",
    "        \n",
    "        return ray\n",
    "    \n",
    "    def get_eye(self):\n",
    "        return self.eye\n",
    "\n",
    "    def pixel (self, x_im, y_im, rgb):\n",
    "        self.img[y_im, x_im, :] = rgb\n",
    "    \n",
    "    def get_pixel(self, x, y):\n",
    "        return self.img[y, x, :]\n",
    "    \n",
    "    def set_pixel(self, x, y, rgb):\n",
    "        self.img[y, x, :] = rgb\n",
    "        \n",
    "    def get_w(self):\n",
    "        return self.w\n",
    "    \n",
    "    def get_h(self):\n",
    "        return self.h\n",
    "    \n",
    "    def imshow(self):\n",
    "        img_max = np.amax(self.img)\n",
    "        \n",
    "        if img_max < TOL:\n",
    "            print(\"Imagem Zerada\")\n",
    "            \n",
    "        plt.figure(figsize = (8, 4))\n",
    "        plt.imshow(self.img)\n",
    "        plt.show()\n",
    "    \n",
    "    def show(self):\n",
    "        print(\"CAMERA:\")\n",
    "        print(\"fov =\", self.fov, \"d =\", self.dfocal)\n",
    "        print(\"(w, h) = (\", self.w, \",\", self.h, \")\")\n",
    "        print(\"(b, a) = (\", self.b, \",\", self.a, \")\")\n",
    "        print(\"xe =\", self.xe)\n",
    "        print(\"ye =\", self.ye)\n",
    "        print(\"ze =\", self.ze)"
   ]
  },
  {
   "cell_type": "code",
   "execution_count": 4,
   "metadata": {},
   "outputs": [
    {
     "name": "stdout",
     "output_type": "stream",
     "text": [
      "CAMERA:\n",
      "fov = 90 d = 30\n",
      "(w, h) = ( 300 , 300 )\n",
      "(b, a) = ( 59.999999999999986 , 59.99999999999999 )\n",
      "xe = [ 0.37139068  0.         -0.92847669]\n",
      "ye = [ 0.32325409 -0.93743687  0.12930164]\n",
      "ze = [-0.87038828 -0.34815531 -0.34815531]\n"
     ]
    }
   ],
   "source": [
    "eye = vetor(100, 40, 40)\n",
    "at = vetor(0, 0, 0)\n",
    "up = vetor(0, 1, 0)\n",
    "camera = Camera(90, 300, 300, 30, eye, at, up)\n",
    "camera.show()"
   ]
  },
  {
   "cell_type": "code",
   "execution_count": 5,
   "metadata": {},
   "outputs": [],
   "source": [
    "class Poligono:\n",
    "    def __init__(self, pp, pn, material):\n",
    "        self.pp = pp\n",
    "        self.pn = pn\n",
    "        self.ni = None\n",
    "        self.material = material\n",
    "    \n",
    "    def show(self):\n",
    "        print(\"POLIGONO:\")\n",
    "        for i in range(len(self.pp)):\n",
    "            print(f'Plano {i}: ponto = {self.pp[i]}, normal = {self.pn[i]}')\n",
    "    \n",
    "    def intercepta(self, origem, direcao):\n",
    "        te = 0\n",
    "        ts = np.inf\n",
    "        obji = None\n",
    "        \n",
    "        for i in range(len(self.pp)):\n",
    "            pn = self.pn[i]\n",
    "            pp = self.pp[i]\n",
    "            num = dot(pp - origem, pn)\n",
    "            den = dot(direcao, pn)\n",
    "            \n",
    "            if den < -TOL:\n",
    "                t = num / den\n",
    "                \n",
    "                if t > te:\n",
    "                    te = t\n",
    "                    obji = self\n",
    "                    self.ni = pn\n",
    "                \n",
    "            elif den > TOL:\n",
    "                t = num / den\n",
    "                ts = t if t < ts else ts\n",
    "                obji = self\n",
    "            \n",
    "            if ts < te:\n",
    "                te = np.inf\n",
    "                obji = None\n",
    "                break\n",
    "        \n",
    "        return te, obji\n",
    "    \n",
    "    def get_mat(self):\n",
    "        return self.material\n",
    "    \n",
    "    def normal(self, ponto):\n",
    "        return self.pn"
   ]
  },
  {
   "cell_type": "code",
   "execution_count": 6,
   "metadata": {},
   "outputs": [],
   "source": [
    "class Caixa(Poligono):\n",
    "    def __init__(self, pmin, pmax, material):\n",
    "        super().__init__([pmin, pmin, pmin, pmax, pmax, pmax], \n",
    "                         [vetor(-1, 0 , 0), vetor(0, -1, 0), vetor(0, 0, -1), \n",
    "                          vetor(1, 0 , 0), vetor(0, 1, 0), vetor(0, 0, 1)], material)"
   ]
  },
  {
   "cell_type": "code",
   "execution_count": 7,
   "metadata": {},
   "outputs": [],
   "source": [
    "class Esfera:\n",
    "    def __init__(self, raio, centro, material):\n",
    "        self.raio = raio\n",
    "        self.centro = centro\n",
    "        self.material = material\n",
    "        \n",
    "    def show(self):\n",
    "        print(\"ESFERA:\")\n",
    "        print(f'raio = {self.raio}')\n",
    "        print(f'centro = {self.centro}')\n",
    "        self.material.show()\n",
    "    \n",
    "    def intercepta(self, origem, direcao):\n",
    "        a = dot(direcao, direcao)\n",
    "        b = 2 * dot(direcao, origem - self.centro)\n",
    "        c = dot(origem - self.centro, origem - self.centro) - self.raio**2\n",
    "        delta = b**2 - 4 * a * c\n",
    "        \n",
    "        if delta > TOL:\n",
    "            raiz = sqrt(delta)\n",
    "            t1 = (-b - raiz) / (2 * a)\n",
    "            t2 = (-b + raiz) / (2 * a)\n",
    "            t = t1 if t1 < t2 else t2\n",
    "            \n",
    "            if t > 0:\n",
    "                return t, self\n",
    "            else:\n",
    "                return np.inf, None\n",
    "        else:\n",
    "            return np.inf, None\n",
    "     \n",
    "    def normal(self, ponto):\n",
    "        return unitario(ponto - self.centro)\n",
    "    \n",
    "    def get_mat(self):\n",
    "        return self.material"
   ]
  },
  {
   "cell_type": "code",
   "execution_count": 8,
   "metadata": {},
   "outputs": [],
   "source": [
    "class Material:\n",
    "    def __init__(self, coef_difuso):\n",
    "        self.coef_difuso = coef_difuso\n",
    "        \n",
    "    def show(self):\n",
    "        print(\"MATERIAL:\")\n",
    "        print(\"kd\", self.coef_difuso)\n",
    "    \n",
    "    def get_kd(self):\n",
    "        return self.coef_difuso"
   ]
  },
  {
   "cell_type": "code",
   "execution_count": 9,
   "metadata": {},
   "outputs": [
    {
     "name": "stdout",
     "output_type": "stream",
     "text": [
      "MATERIAL:\n",
      "kd [0. 0. 1.]\n",
      "MATERIAL:\n",
      "kd [0.7 0.7 0. ]\n"
     ]
    }
   ],
   "source": [
    "azul = Material(vetor(0, 0, 1))\n",
    "amarelo = Material(vetor(0.7, 0.7, 0))\n",
    "azul.show()\n",
    "amarelo.show()"
   ]
  },
  {
   "cell_type": "code",
   "execution_count": 10,
   "metadata": {},
   "outputs": [
    {
     "name": "stdout",
     "output_type": "stream",
     "text": [
      "ESFERA:\n",
      "raio = 25\n",
      "centro = [ 0. 20.  0.]\n",
      "MATERIAL:\n",
      "kd [0. 0. 1.]\n"
     ]
    }
   ],
   "source": [
    "esfera = Esfera(25, vetor(0, 20, 0), azul)\n",
    "esfera.show()"
   ]
  },
  {
   "cell_type": "code",
   "execution_count": 11,
   "metadata": {},
   "outputs": [
    {
     "name": "stdout",
     "output_type": "stream",
     "text": [
      "POLIGONO:\n",
      "Plano 0: ponto = [-80. -50. -50.], normal = [-1.  0.  0.]\n",
      "Plano 1: ponto = [-80. -50. -50.], normal = [ 0. -1.  0.]\n",
      "Plano 2: ponto = [-80. -50. -50.], normal = [ 0.  0. -1.]\n",
      "Plano 3: ponto = [ 50. -45.  50.], normal = [1. 0. 0.]\n",
      "Plano 4: ponto = [ 50. -45.  50.], normal = [0. 1. 0.]\n",
      "Plano 5: ponto = [ 50. -45.  50.], normal = [0. 0. 1.]\n",
      "POLIGONO:\n",
      "Plano 0: ponto = [-80. -50. -60.], normal = [-1.  0.  0.]\n",
      "Plano 1: ponto = [-80. -50. -60.], normal = [ 0. -1.  0.]\n",
      "Plano 2: ponto = [-80. -50. -60.], normal = [ 0.  0. -1.]\n",
      "Plano 3: ponto = [ 50.  50. -50.], normal = [1. 0. 0.]\n",
      "Plano 4: ponto = [ 50.  50. -50.], normal = [0. 1. 0.]\n",
      "Plano 5: ponto = [ 50.  50. -50.], normal = [0. 0. 1.]\n"
     ]
    }
   ],
   "source": [
    "piso = Caixa(vetor(-80, -50, -50), vetor(50, -45, 50), amarelo)\n",
    "parede = Caixa(vetor(-80, -50, -60), vetor(50, 50, -50), amarelo)\n",
    "piso.show()\n",
    "parede.show()"
   ]
  },
  {
   "cell_type": "code",
   "execution_count": 12,
   "metadata": {},
   "outputs": [],
   "source": [
    "class Luz:\n",
    "    def __init__(self, posicao, intensidade):\n",
    "        self.posicao = posicao\n",
    "        self.intensidade = intensidade\n",
    "    \n",
    "    def show(self):\n",
    "        print(\"LUZ:\")\n",
    "        print(f'Posicao = {self.posicao}')\n",
    "        print(f'Intensidade = {self.intensidade}')\n",
    "    \n",
    "    def get_pos(self):\n",
    "        return self.posicao\n",
    "    \n",
    "    def get_int(self):\n",
    "        return self.intensidade"
   ]
  },
  {
   "cell_type": "code",
   "execution_count": 13,
   "metadata": {},
   "outputs": [
    {
     "name": "stdout",
     "output_type": "stream",
     "text": [
      "LUZ:\n",
      "Posicao = [ 60. 120.  40.]\n",
      "Intensidade = [0.8 0.8 0.8]\n"
     ]
    }
   ],
   "source": [
    "luz = Luz(vetor(60, 120, 40), vetor(0.8, 0.8, 0.8))\n",
    "luz.show()"
   ]
  },
  {
   "cell_type": "code",
   "execution_count": 14,
   "metadata": {},
   "outputs": [],
   "source": [
    "class Cena:\n",
    "    def __init__(self, camera, objetos, materiais, luzes):\n",
    "        self.camera = camera\n",
    "        self.objetos = objetos\n",
    "        self.materiais = materiais\n",
    "        self.luzes = luzes\n",
    "    \n",
    "    def show(self):\n",
    "        print(\"CENA:\")\n",
    "        \n",
    "        self.camera.show()\n",
    "        \n",
    "        for obj in self.objetos:\n",
    "            obj.show()\n",
    "        \n",
    "        for mat in self.materiais:\n",
    "            mat.show()\n",
    "        \n",
    "        for luz in self.luzes:\n",
    "            luz.show()\n",
    "    \n",
    "    def shade(self, objeto, ponto, normal):\n",
    "        kd = objeto.get_mat().get_kd()\n",
    "        cor = vetor(0, 0, 0)\n",
    "        \n",
    "        for luz in self.luzes:\n",
    "            vluz = unitario(luz.get_pos() - ponto)\n",
    "            cosseno = dot(vluz, normal)\n",
    "            \n",
    "            if cosseno > TOL:\n",
    "                cor += luz.get_int() * kd * cosseno\n",
    "            \n",
    "        return cor\n",
    "    \n",
    "    def ray_trace(self):\n",
    "        w = self.camera.get_w()\n",
    "        h = self.camera.get_h()\n",
    "        origem = self.camera.get_eye()\n",
    "        \n",
    "        for y in range(h):           \n",
    "            for x in range(w):\n",
    "                direcao = self.camera.ray_to(x, y)\n",
    "                ti = np.inf\n",
    "                obji = None\n",
    "                \n",
    "                for obj in self.objetos:\n",
    "                    t, objx = obj.intercepta(origem, direcao)\n",
    "                    if t < ti:\n",
    "                        ti = t\n",
    "                        obji = objx\n",
    "                \n",
    "                if obji:\n",
    "                    ponto = origem + ti * direcao\n",
    "                    normal = obji.normal(ponto)\n",
    "                    \n",
    "                    rgb = self.shade(obji, ponto, normal)\n",
    "                    #rgb = obji.get_mat().get_kd()\n",
    "                    \n",
    "                    cor = self.camera.get_pixel(x, y)\n",
    "                    self.camera.set_pixel(x, y, cor + rgb)"
   ]
  },
  {
   "cell_type": "code",
   "execution_count": 15,
   "metadata": {},
   "outputs": [
    {
     "name": "stdout",
     "output_type": "stream",
     "text": [
      "CENA:\n",
      "CAMERA:\n",
      "fov = 90 d = 30\n",
      "(w, h) = ( 300 , 300 )\n",
      "(b, a) = ( 59.999999999999986 , 59.99999999999999 )\n",
      "xe = [ 0.37139068  0.         -0.92847669]\n",
      "ye = [ 0.32325409 -0.93743687  0.12930164]\n",
      "ze = [-0.87038828 -0.34815531 -0.34815531]\n",
      "ESFERA:\n",
      "raio = 25\n",
      "centro = [ 0. 20.  0.]\n",
      "MATERIAL:\n",
      "kd [0. 0. 1.]\n",
      "POLIGONO:\n",
      "Plano 0: ponto = [-80. -50. -50.], normal = [-1.  0.  0.]\n",
      "Plano 1: ponto = [-80. -50. -50.], normal = [ 0. -1.  0.]\n",
      "Plano 2: ponto = [-80. -50. -50.], normal = [ 0.  0. -1.]\n",
      "Plano 3: ponto = [ 50. -45.  50.], normal = [1. 0. 0.]\n",
      "Plano 4: ponto = [ 50. -45.  50.], normal = [0. 1. 0.]\n",
      "Plano 5: ponto = [ 50. -45.  50.], normal = [0. 0. 1.]\n",
      "POLIGONO:\n",
      "Plano 0: ponto = [-80. -50. -60.], normal = [-1.  0.  0.]\n",
      "Plano 1: ponto = [-80. -50. -60.], normal = [ 0. -1.  0.]\n",
      "Plano 2: ponto = [-80. -50. -60.], normal = [ 0.  0. -1.]\n",
      "Plano 3: ponto = [ 50.  50. -50.], normal = [1. 0. 0.]\n",
      "Plano 4: ponto = [ 50.  50. -50.], normal = [0. 1. 0.]\n",
      "Plano 5: ponto = [ 50.  50. -50.], normal = [0. 0. 1.]\n",
      "MATERIAL:\n",
      "kd [0. 0. 1.]\n",
      "MATERIAL:\n",
      "kd [0.7 0.7 0. ]\n",
      "LUZ:\n",
      "Posicao = [ 60. 120.  40.]\n",
      "Intensidade = [0.8 0.8 0.8]\n"
     ]
    }
   ],
   "source": [
    "objetos = [esfera, piso, parede]\n",
    "materiais = [azul, amarelo]\n",
    "luzes = [luz]\n",
    "cena = Cena(camera, objetos, materiais, luzes)\n",
    "cena.show()"
   ]
  },
  {
   "cell_type": "code",
   "execution_count": 16,
   "metadata": {},
   "outputs": [
    {
     "ename": "ValueError",
     "evalue": "The truth value of an array with more than one element is ambiguous. Use a.any() or a.all()",
     "output_type": "error",
     "traceback": [
      "\u001b[1;31m---------------------------------------------------------------------------\u001b[0m",
      "\u001b[1;31mValueError\u001b[0m                                Traceback (most recent call last)",
      "\u001b[1;32m<ipython-input-16-db18d98bad42>\u001b[0m in \u001b[0;36m<module>\u001b[1;34m\u001b[0m\n\u001b[1;32m----> 1\u001b[1;33m \u001b[0mcena\u001b[0m\u001b[1;33m.\u001b[0m\u001b[0mray_trace\u001b[0m\u001b[1;33m(\u001b[0m\u001b[1;33m)\u001b[0m\u001b[1;33m\u001b[0m\u001b[1;33m\u001b[0m\u001b[0m\n\u001b[0m",
      "\u001b[1;32m<ipython-input-14-2e67bab5be27>\u001b[0m in \u001b[0;36mray_trace\u001b[1;34m(self)\u001b[0m\n\u001b[0;32m     54\u001b[0m                     \u001b[0mnormal\u001b[0m \u001b[1;33m=\u001b[0m \u001b[0mobji\u001b[0m\u001b[1;33m.\u001b[0m\u001b[0mnormal\u001b[0m\u001b[1;33m(\u001b[0m\u001b[0mponto\u001b[0m\u001b[1;33m)\u001b[0m\u001b[1;33m\u001b[0m\u001b[1;33m\u001b[0m\u001b[0m\n\u001b[0;32m     55\u001b[0m \u001b[1;33m\u001b[0m\u001b[0m\n\u001b[1;32m---> 56\u001b[1;33m                     \u001b[0mrgb\u001b[0m \u001b[1;33m=\u001b[0m \u001b[0mself\u001b[0m\u001b[1;33m.\u001b[0m\u001b[0mshade\u001b[0m\u001b[1;33m(\u001b[0m\u001b[0mobji\u001b[0m\u001b[1;33m,\u001b[0m \u001b[0mponto\u001b[0m\u001b[1;33m,\u001b[0m \u001b[0mnormal\u001b[0m\u001b[1;33m)\u001b[0m\u001b[1;33m\u001b[0m\u001b[1;33m\u001b[0m\u001b[0m\n\u001b[0m\u001b[0;32m     57\u001b[0m                     \u001b[1;31m#rgb = obji.get_mat().get_kd()\u001b[0m\u001b[1;33m\u001b[0m\u001b[1;33m\u001b[0m\u001b[1;33m\u001b[0m\u001b[0m\n\u001b[0;32m     58\u001b[0m \u001b[1;33m\u001b[0m\u001b[0m\n",
      "\u001b[1;32m<ipython-input-14-2e67bab5be27>\u001b[0m in \u001b[0;36mshade\u001b[1;34m(self, objeto, ponto, normal)\u001b[0m\n\u001b[0;32m     28\u001b[0m             \u001b[0mcosseno\u001b[0m \u001b[1;33m=\u001b[0m \u001b[0mdot\u001b[0m\u001b[1;33m(\u001b[0m\u001b[0mvluz\u001b[0m\u001b[1;33m,\u001b[0m \u001b[0mnormal\u001b[0m\u001b[1;33m)\u001b[0m\u001b[1;33m\u001b[0m\u001b[1;33m\u001b[0m\u001b[0m\n\u001b[0;32m     29\u001b[0m \u001b[1;33m\u001b[0m\u001b[0m\n\u001b[1;32m---> 30\u001b[1;33m             \u001b[1;32mif\u001b[0m \u001b[0mcosseno\u001b[0m \u001b[1;33m>\u001b[0m \u001b[0mTOL\u001b[0m\u001b[1;33m:\u001b[0m\u001b[1;33m\u001b[0m\u001b[1;33m\u001b[0m\u001b[0m\n\u001b[0m\u001b[0;32m     31\u001b[0m                 \u001b[0mcor\u001b[0m \u001b[1;33m+=\u001b[0m \u001b[0mluz\u001b[0m\u001b[1;33m.\u001b[0m\u001b[0mget_int\u001b[0m\u001b[1;33m(\u001b[0m\u001b[1;33m)\u001b[0m \u001b[1;33m*\u001b[0m \u001b[0mkd\u001b[0m \u001b[1;33m*\u001b[0m \u001b[0mcosseno\u001b[0m\u001b[1;33m\u001b[0m\u001b[1;33m\u001b[0m\u001b[0m\n\u001b[0;32m     32\u001b[0m \u001b[1;33m\u001b[0m\u001b[0m\n",
      "\u001b[1;31mValueError\u001b[0m: The truth value of an array with more than one element is ambiguous. Use a.any() or a.all()"
     ]
    }
   ],
   "source": [
    "cena.ray_trace()"
   ]
  },
  {
   "cell_type": "code",
   "execution_count": null,
   "metadata": {},
   "outputs": [],
   "source": [
    "camera.imshow()"
   ]
  },
  {
   "cell_type": "code",
   "execution_count": null,
   "metadata": {},
   "outputs": [],
   "source": []
  }
 ],
 "metadata": {
  "kernelspec": {
   "display_name": "Python 3",
   "language": "python",
   "name": "python3"
  },
  "language_info": {
   "codemirror_mode": {
    "name": "ipython",
    "version": 3
   },
   "file_extension": ".py",
   "mimetype": "text/x-python",
   "name": "python",
   "nbconvert_exporter": "python",
   "pygments_lexer": "ipython3",
   "version": "3.8.5"
  }
 },
 "nbformat": 4,
 "nbformat_minor": 4
}
