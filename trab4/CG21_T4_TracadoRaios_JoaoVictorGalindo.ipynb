{
 "cells": [
  {
   "cell_type": "markdown",
   "metadata": {},
   "source": [
    "<h1>T4 - Traçado de Raios<h3/>\n",
    "\n",
    "<p></p>"
   ]
  },
  {
   "cell_type": "code",
   "execution_count": 10,
   "metadata": {},
   "outputs": [
    {
     "name": "stdout",
     "output_type": "stream",
     "text": [
      "2.220446049250313e-16\n"
     ]
    }
   ],
   "source": [
    "import numpy as np\n",
    "import matplotlib.pyplot as plt\n",
    "from math import sin, cos, sqrt\n",
    "import sys\n",
    "\n",
    "TOL = sys.float_info.epsilon\n",
    "print(TOL)"
   ]
  },
  {
   "cell_type": "code",
   "execution_count": 11,
   "metadata": {},
   "outputs": [],
   "source": [
    "def vetor(x, y, z):\n",
    "    return  np.array([x, y, z], dtype = np.float)\n",
    "\n",
    "def dot(u, v):\n",
    "    return u[0] * v[0] + u[1] * v[1] + u[2] * v[2]\n",
    "\n",
    "def norma(u):\n",
    "    return sqrt(dot(u, u))\n",
    "\n",
    "def unitario(v):\n",
    "    s = norma(v)\n",
    "    \n",
    "    if (s > TOL):\n",
    "        return v/s\n",
    "    \n",
    "    else:\n",
    "        return None\n",
    "\n",
    "def ang(v1, v2):\n",
    "    num = dot(v1, v2)\n",
    "    den = norm(v1) * norm(v2)\n",
    "    \n",
    "    return np.arccos(num/den) * 180 / np.pi if den > TOL else 0\n",
    "\n",
    "def reflete(v, n):\n",
    "    r = 2 * dot(v, n) * n - v\n",
    "    return r\n",
    "\n",
    "def cross(u, v):\n",
    "    return vetor(u[1] * v[2] - u[2] * v[1], u[2] * v[0] - u[0] * v[2], u[0] * v[1] - u[1] * v[0]) "
   ]
  },
  {
   "cell_type": "code",
   "execution_count": 25,
   "metadata": {},
   "outputs": [],
   "source": [
    "class Camera:\n",
    "    def __init__(self, fov, w, h, dfocal, eye, at, up):\n",
    "        self.fov = fov\n",
    "        self.w = w\n",
    "        self.h = h\n",
    "        self.dfocal = dfocal\n",
    "        \n",
    "        self.a = 2 * dfocal * np.tan(fov * np.pi / 360)\n",
    "        self.b = self.a * w / h\n",
    "        self.eye = eye\n",
    "        \n",
    "        self.ze = unitario(at - eye)\n",
    "        self.xe = unitario(cross(self.ze, up))\n",
    "        self.ye = cross(self.ze, self.xe)\n",
    "        self.img = np.zeros(shape = (h, w, 3), dtype = np.float)\n",
    "    \n",
    "    def ray_to(self, x_im, y_im):\n",
    "        dx = self.b * (x_im / self.w - 0.5)\n",
    "        dy = self.a * (y_im / self.h - 0.5)\n",
    "        dz = self.dfocal\n",
    "        \n",
    "        ray = dx * self.xe + dy * self.ye + dz * self.ze\n",
    "        \n",
    "        return ray\n",
    "    \n",
    "    def get_eye(self):\n",
    "        return self.eye\n",
    "\n",
    "    def pixel (self, x_im, y_im, rgb):\n",
    "        self.img[y_im, x_im, :] = rgb\n",
    "        \n",
    "    def get_w(self):\n",
    "        return self.w\n",
    "    \n",
    "    def get_h(self):\n",
    "        return self.h\n",
    "    \n",
    "    def imshow(self):\n",
    "        plt.figure(figsize = (8, 4))\n",
    "        plt.imshow(self.img)\n",
    "        plt.show()\n",
    "    \n",
    "    def show(self):\n",
    "        print(\"fov =\", self.fov, \"d =\", self.dfocal)\n",
    "        print(\"(w, h) = (\", self.w, \",\", self.h, \")\")\n",
    "        print(\"(b, a) = (\", self.b, \",\", self.a, \")\")\n",
    "        print(\"xe =\", self.xe)\n",
    "        print(\"ye =\", self.ye)\n",
    "        print(\"ze =\", self.ze)"
   ]
  },
  {
   "cell_type": "code",
   "execution_count": 35,
   "metadata": {},
   "outputs": [
    {
     "name": "stdout",
     "output_type": "stream",
     "text": [
      "fov = 90 d = 1\n",
      "(w, h) = ( 800 , 600 )\n",
      "(b, a) = ( 2.666666666666666 , 1.9999999999999998 )\n",
      "xe = [ 0.  1. -0.]\n",
      "ye = [-0.  0. -1.]\n",
      "ze = [-1.  0.  0.]\n"
     ]
    }
   ],
   "source": [
    "eye = vetor(5, 0, 0)\n",
    "at = vetor(0, 0, 0)\n",
    "up = vetor(0, 0, 1)\n",
    "camera = Camera(90, 800, 600, 1, eye, at, up)\n",
    "camera.show()"
   ]
  },
  {
   "cell_type": "code",
   "execution_count": 44,
   "metadata": {},
   "outputs": [],
   "source": [
    "class Esfera:\n",
    "    def __init__(self, raio, centro, material):\n",
    "        self.raio = raio\n",
    "        self.centro = centro\n",
    "        self.material = material\n",
    "        \n",
    "    def show(self):\n",
    "        print(f'raio = {self.raio}')\n",
    "        print(f'centro = {self.centro}')\n",
    "        print(f'material = {self.material}')\n",
    "    \n",
    "    def intercepta(self, origem, direcao):\n",
    "        a = dot(direcao, direcao)\n",
    "        b = 2 * dot(direcao, origem - self.centro)\n",
    "        c = dot(origem - self.centro, origem - self.centro) - self.raio**2\n",
    "        delta = b**2 - 4 * a * c\n",
    "        \n",
    "        if delta > TOL:\n",
    "            raiz = sqrt(delta)\n",
    "            t1 = (-b - raiz) / 2 * a\n",
    "            t2 = (-b + raiz) / 2 * a\n",
    "            t = t1 if t1 < t2 else t2\n",
    "            \n",
    "            return t if t > 0 else np.inf\n",
    "        \n",
    "        else:\n",
    "            return np.inf\n",
    "     \n",
    "    def normal(self, ponto):\n",
    "        return unitario(ponto - self.centro)        "
   ]
  },
  {
   "cell_type": "code",
   "execution_count": 45,
   "metadata": {},
   "outputs": [
    {
     "name": "stdout",
     "output_type": "stream",
     "text": [
      "raio = 3\n",
      "centro = [0. 0. 0.]\n",
      "material = [1. 1. 0.]\n"
     ]
    }
   ],
   "source": [
    "esfera = Esfera(3, vetor(0, 0, 0), vetor(1, 1, 0))\n",
    "esfera.show()"
   ]
  },
  {
   "cell_type": "code",
   "execution_count": 50,
   "metadata": {},
   "outputs": [],
   "source": [
    "class Cena:\n",
    "    def __init__(self, camera, objetos, luzes):\n",
    "        self.camera = camera\n",
    "        self.objetos = objetos\n",
    "        self.luzes = luzes\n",
    "    \n",
    "    def show(self):\n",
    "        self.camera.show()\n",
    "        \n",
    "        for obj in self.objetos:\n",
    "            obj.show()\n",
    "        \n",
    "        for luz in self.luzes:\n",
    "            luz.show()\n",
    "    \n",
    "    def ray_trace(self):\n",
    "        w = self.camera.get_w()\n",
    "        h = self.camera.get_h()\n",
    "        origem = self.camera.get_eye()\n",
    "        \n",
    "        for y in range(h):\n",
    "            \n",
    "            for x in range(w):\n",
    "                direcao = self.camera.ray_to(x, y)\n",
    "                ti = np.inf\n",
    "                obji = None\n",
    "                \n",
    "                for obj in self.objetos:\n",
    "                    t = obj.intercepta(origem, direcao)\n",
    "                    if t < ti:\n",
    "                        ti = t\n",
    "                        obji = obj\n",
    "                \n",
    "                if obji:\n",
    "                    ponto = origem + ti * direcao\n",
    "                    normal = obji.normal(ponto)\n",
    "                    luz = vetor(0, 1, 0)\n",
    "                    \n",
    "                    rgb = obji.material * dot(luz, normal)\n",
    "                    self.camera.pixel(x, y, rgb)"
   ]
  },
  {
   "cell_type": "code",
   "execution_count": 51,
   "metadata": {},
   "outputs": [
    {
     "name": "stdout",
     "output_type": "stream",
     "text": [
      "fov = 90 d = 1\n",
      "(w, h) = ( 800 , 600 )\n",
      "(b, a) = ( 2.666666666666666 , 1.9999999999999998 )\n",
      "xe = [ 0.  1. -0.]\n",
      "ye = [-0.  0. -1.]\n",
      "ze = [-1.  0.  0.]\n",
      "raio = 3\n",
      "centro = [0. 0. 0.]\n",
      "material = [1. 1. 0.]\n"
     ]
    }
   ],
   "source": [
    "objetos = [esfera]\n",
    "luzes = []\n",
    "cena = Cena(camera, objetos, luzes)\n",
    "cena.show()"
   ]
  },
  {
   "cell_type": "code",
   "execution_count": 52,
   "metadata": {},
   "outputs": [],
   "source": [
    "cena.ray_trace()"
   ]
  },
  {
   "cell_type": "code",
   "execution_count": 53,
   "metadata": {},
   "outputs": [
    {
     "name": "stderr",
     "output_type": "stream",
     "text": [
      "Clipping input data to the valid range for imshow with RGB data ([0..1] for floats or [0..255] for integers).\n"
     ]
    },
    {
     "data": {
      "image/png": "[encoded data removed]",
      "text/plain": [
       "<Figure size 576x288 with 1 Axes>"
      ]
     },
     "metadata": {
      "needs_background": "light"
     },
     "output_type": "display_data"
    }
   ],
   "source": [
    "camera.imshow()"
   ]
  },
  {
   "cell_type": "code",
   "execution_count": null,
   "metadata": {},
   "outputs": [],
   "source": []
  }
 ],
 "metadata": {
  "kernelspec": {
   "display_name": "Python 3",
   "language": "python",
   "name": "python3"
  },
  "language_info": {
   "codemirror_mode": {
    "name": "ipython",
    "version": 3
   },
   "file_extension": ".py",
   "mimetype": "text/x-python",
   "name": "python",
   "nbconvert_exporter": "python",
   "pygments_lexer": "ipython3",
   "version": "3.8.5"
  }
 },
 "nbformat": 4,
 "nbformat_minor": 4
}
